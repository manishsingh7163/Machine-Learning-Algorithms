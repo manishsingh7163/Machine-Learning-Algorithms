{
 "cells": [
  {
   "cell_type": "code",
   "execution_count": 2,
   "metadata": {},
   "outputs": [
    {
     "name": "stdout",
     "output_type": "stream",
     "text": [
      "******************** Costumer Elimination Algorithm ********************\n",
      " \n",
      "\n",
      "For Training instance No:0 the hypothesis is\n",
      "\n",
      "Specific Hypothesis:  ['sunny' 'warm' 'normal' 'strong' 'warm' 'same']\n",
      "General Hypothesis:  [['?', '?', '?', '?', '?', '?'], ['?', '?', '?', '?', '?', '?'], ['?', '?', '?', '?', '?', '?'], ['?', '?', '?', '?', '?', '?'], ['?', '?', '?', '?', '?', '?'], ['?', '?', '?', '?', '?', '?']]\n",
      " \n",
      "\n",
      "For Training instance No:1 the hypothesis is\n",
      "\n",
      "Specific Hypothesis:  ['sunny' 'warm' '?' 'strong' 'warm' 'same']\n",
      "General Hypothesis:  [['?', '?', '?', '?', '?', '?'], ['?', '?', '?', '?', '?', '?'], ['?', '?', '?', '?', '?', '?'], ['?', '?', '?', '?', '?', '?'], ['?', '?', '?', '?', '?', '?'], ['?', '?', '?', '?', '?', '?']]\n",
      " \n",
      "\n",
      "For Training instance No:2 the hypothesis is\n",
      "\n",
      "Specific Hypothesis:  ['sunny' 'warm' '?' 'strong' 'warm' 'same']\n",
      "General Hypothesis:  [['sunny', '?', '?', '?', '?', '?'], ['?', 'warm', '?', '?', '?', '?'], ['?', '?', '?', '?', '?', '?'], ['?', '?', '?', '?', '?', '?'], ['?', '?', '?', '?', '?', '?'], ['?', '?', '?', '?', '?', 'same']]\n",
      " \n",
      "\n",
      "For Training instance No:3 the hypothesis is\n",
      "\n",
      "Specific Hypothesis:  ['sunny' 'warm' '?' 'strong' '?' '?']\n",
      "General Hypothesis:  [['sunny', '?', '?', '?', '?', '?'], ['?', 'warm', '?', '?', '?', '?'], ['?', '?', '?', '?', '?', '?'], ['?', '?', '?', '?', '?', '?'], ['?', '?', '?', '?', '?', '?'], ['?', '?', '?', '?', '?', '?']]\n",
      "Final Specific hypothesis: ['sunny' 'warm' '?' 'strong' '?' '?']\n",
      "Final General hypothesis: [['sunny', '?', '?', '?', '?', '?'], ['?', 'warm', '?', '?', '?', '?']]\n"
     ]
    }
   ],
   "source": [
    "import numpy as np\n",
    "import pandas as pd\n",
    "\n",
    "data = pd.DataFrame(pd.read_csv('enjoysport.csv'))\n",
    "concepts = np.array(data.iloc[:,:-1])\n",
    "target = np.array(data.iloc[:,-1])\n",
    "\n",
    "def learn(concepts, target):\n",
    "    specific_h = concepts[0].copy()\n",
    "    general_h = [[\"?\" for i in range(len(specific_h))] for i in range(len(specific_h))]\n",
    "\n",
    "    for i, h in enumerate(concepts):                \n",
    "        if target[i] == \"yes\":\n",
    "            for x in range(len(specific_h)):\n",
    "                if h[x] != specific_h[x]:\n",
    "                    specific_h[x] = '?'\n",
    "                    general_h[x][x] = '?'\n",
    "            print(\" \\n\\nFor Training instance No:{0} the hypothesis is\\n\".format(i))\n",
    "            print(\"Specific Hypothesis: \",specific_h)\n",
    "            print(\"General Hypothesis: \",general_h,)\n",
    "        if target[i] == \"no\":            \n",
    "            for x in range(len(specific_h)):\n",
    "                if h[x] != specific_h[x]:\n",
    "                    general_h[x][x] = specific_h[x]\n",
    "                else:\n",
    "                    general_h[x][x] = '?'\n",
    "            print(\" \\n\\nFor Training instance No:{0} the hypothesis is\\n\".format(i))\n",
    "            print(\"Specific Hypothesis: \", specific_h)\n",
    "            print(\"General Hypothesis: \",general_h,)\n",
    "    indices = [i for i,val in enumerate(general_h) if val == ['?', '?', '?', '?', '?', '?']]\n",
    "\n",
    "    for i in indices:\n",
    "        general_h.remove(['?', '?', '?', '?', '?', '?'])\n",
    "\n",
    "    return specific_h, general_h\n",
    "print(\"*\"*20,\"Costumer Elimination Algorithm\",\"*\"*20)\n",
    "s_final, g_final = learn(concepts, target)\n",
    "print(\"Final Specific hypothesis:\", s_final)\n",
    "print(\"Final General hypothesis:\", g_final)\n"
   ]
  },
  {
   "cell_type": "code",
   "execution_count": null,
   "metadata": {},
   "outputs": [],
   "source": []
  }
 ],
 "metadata": {
  "kernelspec": {
   "display_name": "Python 3",
   "language": "python",
   "name": "python3"
  },
  "language_info": {
   "codemirror_mode": {
    "name": "ipython",
    "version": 3
   },
   "file_extension": ".py",
   "mimetype": "text/x-python",
   "name": "python",
   "nbconvert_exporter": "python",
   "pygments_lexer": "ipython3",
   "version": "3.7.4"
  }
 },
 "nbformat": 4,
 "nbformat_minor": 2
}
