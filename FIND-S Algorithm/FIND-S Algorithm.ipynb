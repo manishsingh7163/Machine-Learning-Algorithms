{
 "cells": [
  {
   "cell_type": "code",
   "execution_count": 2,
   "metadata": {},
   "outputs": [
    {
     "name": "stdout",
     "output_type": "stream",
     "text": [
      "The data is: \n",
      "\n",
      "      sky airtemp humidity    wind water forcast enjoysport\n",
      "0  sunny    warm   normal  strong  warm    same        yes\n",
      "1  sunny    warm     high  strong  warm    same        yes\n",
      "2  rainy    cold     high  strong  warm  change         no\n",
      "3  sunny    warm     high  strong  cool  change        yes\n",
      "\n",
      "**********************************************************************\n",
      "The shape of dataset is (4, 7) \n",
      "\n",
      "Most Specific hypotheis is:  ['sunny', 'warm', 'normal', 'strong', 'warm', 'same']\n",
      " \n",
      "\n",
      "For Training instance No:0 the hypothesis is\n",
      " ['sunny', 'warm', 'normal', 'strong', 'warm', 'same']\n",
      " \n",
      "\n",
      "For Training instance No:1 the hypothesis is\n",
      " ['sunny', 'warm', '?', 'strong', 'warm', 'same']\n",
      " \n",
      "\n",
      "For Training instance No:2 the hypothesis is\n",
      " ['sunny', 'warm', '?', 'strong', 'warm', 'change']\n",
      " \n",
      "\n",
      "For Training instance No:3 the hypothesis is\n",
      " ['sunny', 'warm', '?', 'strong', '?', 'change']\n",
      "\n",
      " The Maximally Specific Hypothesis for a given Training Examples :\n",
      "\n",
      "['sunny', 'warm', '?', 'strong', '?', 'change']\n"
     ]
    }
   ],
   "source": [
    "import pandas as pd\n",
    "\t\n",
    "df = pd.read_csv(\"enjoysport.csv\")\n",
    "print(\"The data is: \\n\\n\",df)\n",
    "print(\"\\n\"+\"*\" * 70)\n",
    "print(\"The shape of dataset is\",df.shape,\"\\n\")\n",
    "# defining the attributes\n",
    "num_attributes = 6\n",
    "#initialize the instance\n",
    "a = []\n",
    "#stroing the dataset items in list\n",
    "for i in range(len(df)):\n",
    "    a.append(df.iloc[i].tolist())\n",
    "\t\n",
    "#storing zero at every place \n",
    "hypo = ['0']* num_attributes\n",
    "# initialize the specific hypothesis\n",
    "for j in range(0, num_attributes):\n",
    "    hypo[j] = a[0][j]\n",
    "print(\"Most Specific hypotheis is: \",hypo)\n",
    "# For each positive training instance x\n",
    "for i in range(len(a)):\n",
    "    if a[i][num_attributes]=='yes':\n",
    "        for j in range(0,num_attributes):# For each attribute constraint ai in h\n",
    "            if a[i][j] != hypo[j]:# Else replace ai in h by the next more general constraint that is satisfied by x\n",
    "                hypo[j]=\"?\"\n",
    "    else:# If the constraint ai is satisfied by x\n",
    "        hypo[j]=a[i][j]# Then do nothing\n",
    "    print(\" \\n\\nFor Training instance No:{0} the hypothesis is\\n\".format(i),hypo)    # Output hypothesis h       \n",
    "\t\n",
    "print(\"\\n The Maximally Specific Hypothesis for a given Training Examples :\\n\")\n",
    "print(hypo)\n"
   ]
  },
  {
   "cell_type": "code",
   "execution_count": null,
   "metadata": {},
   "outputs": [],
   "source": []
  }
 ],
 "metadata": {
  "kernelspec": {
   "display_name": "Python 3",
   "language": "python",
   "name": "python3"
  },
  "language_info": {
   "codemirror_mode": {
    "name": "ipython",
    "version": 3
   },
   "file_extension": ".py",
   "mimetype": "text/x-python",
   "name": "python",
   "nbconvert_exporter": "python",
   "pygments_lexer": "ipython3",
   "version": "3.7.4"
  }
 },
 "nbformat": 4,
 "nbformat_minor": 2
}
